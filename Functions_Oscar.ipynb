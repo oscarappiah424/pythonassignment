{
 "cells": [
  {
   "cell_type": "markdown",
   "id": "352dd2e3",
   "metadata": {},
   "source": [
    "### Q1\n",
    "\n",
    "Define a python function that calculate the perimeter of the rectangle\n",
    "\n",
    "Formular\n",
    "\n",
    "formular => 2 X length + 2 X Width"
   ]
  },
  {
   "cell_type": "code",
   "execution_count": 1,
   "id": "27c46815",
   "metadata": {},
   "outputs": [],
   "source": [
    "def perimeter(l,w):\n",
    "    formula = (2 * l) + (2 * w)\n",
    "    print(f\"Perimeter of the rectangle is {formula}\")"
   ]
  },
  {
   "cell_type": "code",
   "execution_count": 3,
   "id": "7a0c7602",
   "metadata": {},
   "outputs": [
    {
     "name": "stdout",
     "output_type": "stream",
     "text": [
      "Perimeter of the rectangle is 16\n"
     ]
    }
   ],
   "source": [
    "perimeter(2,6)"
   ]
  },
  {
   "cell_type": "markdown",
   "id": "a56ccec8",
   "metadata": {},
   "source": [
    "### Q2\n",
    "Define the function to calculate the area of a circle. Round the answer to 3 decimal places.\n",
    "\n",
    "**Preamble**\n",
    " - Take pi as 22/7\n",
    " - formular pi x r ** 2"
   ]
  },
  {
   "cell_type": "code",
   "execution_count": 137,
   "id": "4af29efa",
   "metadata": {},
   "outputs": [],
   "source": [
    "def area(r):\n",
    "    a = (22/7)*(r**2)\n",
    "    print(f\"Area of the circle is {a}\")"
   ]
  },
  {
   "cell_type": "code",
   "execution_count": 139,
   "id": "e19636e5",
   "metadata": {},
   "outputs": [
    {
     "name": "stdout",
     "output_type": "stream",
     "text": [
      "Area of the circle is 78.57142857142857\n"
     ]
    }
   ],
   "source": [
    "area(5)"
   ]
  },
  {
   "cell_type": "markdown",
   "id": "be5a6965",
   "metadata": {},
   "source": [
    "### Q3\n",
    "Define a function that takes a list of numbers and print out the **mean**, **median** and **mode**.\n",
    "\n",
    "- Test your function with the list b\n",
    "\n",
    "`b = [2,3,4,6,7,3,4,3,2,1,3]`"
   ]
  },
  {
   "cell_type": "code",
   "execution_count": null,
   "id": "fae3e09b",
   "metadata": {},
   "outputs": [],
   "source": [
    "def list()"
   ]
  },
  {
   "cell_type": "markdown",
   "id": "3313ab10",
   "metadata": {},
   "source": [
    "### Q4\n",
    "Define a function that prints out the list of the first 20 prime numbers"
   ]
  },
  {
   "cell_type": "code",
   "execution_count": 164,
   "id": "7a1fb467",
   "metadata": {},
   "outputs": [
    {
     "name": "stdout",
     "output_type": "stream",
     "text": [
      "[2, 3, 5, 7, 11, 13, 17, 19, 23, 29, 31, 37, 41, 43, 47, 53, 59, 61, 67, 71]\n"
     ]
    }
   ],
   "source": [
    "def first_20_primes():\n",
    "    primes = []\n",
    "    num = 2  \n",
    "    \n",
    "    while len(primes) < 20:  \n",
    "        is_prime = True\n",
    "        \n",
    "        for x in range(2, num):\n",
    "            if num % x == 0:\n",
    "                is_prime = False\n",
    "                break\n",
    "        if is_prime:\n",
    "            primes.append(num)\n",
    "        num += 1\n",
    "    print(primes)\n",
    "    \n",
    "first_20_primes()"
   ]
  },
  {
   "cell_type": "markdown",
   "id": "ef1c5863",
   "metadata": {},
   "source": [
    "#### Q5\n",
    "Define a function that takes a list of strings and print out the string and the length of the string.\n",
    "\n",
    "**Example of expected output**\n",
    "\n",
    "{\"Kofi\":4,\n",
    "\"Ama\":3,\n",
    "\"Sedem\":5}"
   ]
  },
  {
   "cell_type": "code",
   "execution_count": 165,
   "id": "cac8b115",
   "metadata": {},
   "outputs": [],
   "source": [
    "def length_of_string(string_list):\n",
    "    dict_of_lengths = {}\n",
    "    for s in string_list:\n",
    "        dict_of_lengths[s] = len(s)\n",
    "    return dict_of_lengths"
   ]
  },
  {
   "cell_type": "code",
   "execution_count": 166,
   "id": "8f3c96db",
   "metadata": {},
   "outputs": [
    {
     "name": "stdout",
     "output_type": "stream",
     "text": [
      "{'Kofi': 4, 'Ama': 3, 'Sedem': 5}\n"
     ]
    }
   ],
   "source": [
    "string_list = [\"Kofi\", \"Ama\", \"Sedem\"]\n",
    "dict_of_lengths = length_of_string(string_list)\n",
    "print(dict_of_lengths)"
   ]
  },
  {
   "cell_type": "markdown",
   "id": "5072c8d8",
   "metadata": {},
   "source": [
    "### Q6\n",
    "Define a function that takes a list of strings and numbers and print out only the strings and the position of the strings.\n",
    "\n",
    "**Preamble**\n",
    "\n",
    "names = ['sedem', 'Kofi', 'kobla']\n",
    "\n",
    "**Expected Output**\n",
    "\n",
    "{'sedem': P0, 'Kofi': P1, 'kobla': P2}"
   ]
  },
  {
   "cell_type": "markdown",
   "id": "5593b665",
   "metadata": {},
   "source": [
    "### Q7\n",
    "Define a function that returns whether the sum of a person age and person's date of birth equals 2023\n",
    "\n",
    "**Preamble**\n",
    "\n",
    "2001 + 22 => True\n",
    "\n",
    "2002 + 5 => False"
   ]
  },
  {
   "cell_type": "code",
   "execution_count": 100,
   "id": "6b242c34",
   "metadata": {},
   "outputs": [
    {
     "name": "stdout",
     "output_type": "stream",
     "text": [
      "Input age: 22\n",
      "Input DOB: 2001\n"
     ]
    },
    {
     "data": {
      "text/plain": [
       "'2001 + 22 => True'"
      ]
     },
     "execution_count": 100,
     "metadata": {},
     "output_type": "execute_result"
    }
   ],
   "source": [
    "age = int(input(\"Input age: \"))\n",
    "dob = int(input(\"Input DOB: \"))\n",
    "\n",
    "def sum_age(x, y):\n",
    "    if x + y == 2023:\n",
    "        return f\"{y} + {x} => {True}\"\n",
    "    else:\n",
    "        return f\"{y} + {x} => {False}\"\n",
    "    \n",
    "sum_age(22, 2001)"
   ]
  },
  {
   "cell_type": "markdown",
   "id": "f831e652",
   "metadata": {},
   "source": [
    "### Q8\n",
    "Define a function that determine whether a particular year is a **decade**, the output should be a boolean (True or False)\n"
   ]
  },
  {
   "cell_type": "code",
   "execution_count": 102,
   "id": "c4dfd8fb",
   "metadata": {},
   "outputs": [],
   "source": [
    "def decade(year):\n",
    "    if year%10==0 :\n",
    "        print(True)\n",
    "    else:\n",
    "        print(False)"
   ]
  },
  {
   "cell_type": "code",
   "execution_count": 167,
   "id": "6180d94e",
   "metadata": {},
   "outputs": [
    {
     "name": "stdout",
     "output_type": "stream",
     "text": [
      "True\n"
     ]
    }
   ],
   "source": [
    "decade(2000)"
   ]
  },
  {
   "cell_type": "markdown",
   "id": "211c19e3",
   "metadata": {},
   "source": [
    "### Q9\n",
    "Define a function that contains a list of strings and punctuations,the output should on return the list of punctuations.\n"
   ]
  },
  {
   "cell_type": "code",
   "execution_count": 140,
   "id": "94ccc7bb",
   "metadata": {},
   "outputs": [],
   "source": [
    "def get_punctuations(lst):\n",
    "    punctuations = []\n",
    "    for string in lst:\n",
    "        for char in string:\n",
    "            if char in '''!()-[]{};:'\"\\,<>./?@#$%^&*_~''':\n",
    "                if char not in punctuations:\n",
    "                    punctuations.append(char)\n",
    "    return punctuations"
   ]
  },
  {
   "cell_type": "code",
   "execution_count": 141,
   "id": "1b36d1f1",
   "metadata": {},
   "outputs": [
    {
     "name": "stdout",
     "output_type": "stream",
     "text": [
      "[',', '!', '?', '.']\n"
     ]
    }
   ],
   "source": [
    "input_list = ['Hello, world!', 'How are you?', 'I am doing well.']\n",
    "punctuations = get_punctuations(input_list)\n",
    "print(punctuations)"
   ]
  },
  {
   "cell_type": "markdown",
   "id": "34bae9ec",
   "metadata": {},
   "source": [
    "### Q10\n",
    "\n",
    "Define a lambda function that print out the cubic root of a list of numbers"
   ]
  },
  {
   "cell_type": "code",
   "execution_count": 104,
   "id": "667fc5dd",
   "metadata": {},
   "outputs": [],
   "source": [
    "cubic_root = lambda nums: print([num**(1/3) for num in nums])"
   ]
  },
  {
   "cell_type": "code",
   "execution_count": 111,
   "id": "598b799f",
   "metadata": {},
   "outputs": [
    {
     "name": "stdout",
     "output_type": "stream",
     "text": [
      "[3.0, 3.9999999999999996, 5.0, 5.999999999999999]\n"
     ]
    }
   ],
   "source": [
    "nums = [27, 64, 125, 216]\n",
    "cubic_root(my_nums)"
   ]
  },
  {
   "cell_type": "markdown",
   "id": "37974632",
   "metadata": {},
   "source": [
    "### Q11\n",
    "Define a lambda function that print out the cube of a list of numbers"
   ]
  },
  {
   "cell_type": "code",
   "execution_count": 112,
   "id": "ca1d08a0",
   "metadata": {},
   "outputs": [
    {
     "name": "stdout",
     "output_type": "stream",
     "text": [
      "[8, 64, 216, 512]\n"
     ]
    }
   ],
   "source": [
    "cube = lambda nums: print([num**3 for num in nums])\n",
    "my_cube = [2, 4, 6, 8]\n",
    "cube(my_cube)"
   ]
  },
  {
   "cell_type": "markdown",
   "id": "b1522dbb",
   "metadata": {},
   "source": [
    "### Q12\n",
    "Define a function that take a list of list of numbers and return a list that contains the average of each sublist using map."
   ]
  },
  {
   "cell_type": "code",
   "execution_count": 168,
   "id": "d0e17f5c",
   "metadata": {},
   "outputs": [],
   "source": [
    "def list_of_average(lst):\n",
    "    return list(map(lambda sublist: sum(sublist) / len(sublist), lst))"
   ]
  },
  {
   "cell_type": "code",
   "execution_count": 169,
   "id": "29c4baf6",
   "metadata": {},
   "outputs": [
    {
     "name": "stdout",
     "output_type": "stream",
     "text": [
      "[2.0, 5.0, 8.0]\n"
     ]
    }
   ],
   "source": [
    "lst = [[1, 2, 3], [4, 5, 6], [7, 8, 9]]\n",
    "result = list_of_average(lst)\n",
    "print(result)"
   ]
  },
  {
   "cell_type": "markdown",
   "id": "0fd5cd06",
   "metadata": {},
   "source": [
    "### Q13\n",
    "Define a function that takes a list of strings and filter out strings that are upper case."
   ]
  },
  {
   "cell_type": "code",
   "execution_count": 162,
   "id": "a53f6a53",
   "metadata": {},
   "outputs": [
    {
     "name": "stdout",
     "output_type": "stream",
     "text": [
      "['world', 'programming']\n"
     ]
    }
   ],
   "source": [
    "def upperCase(strings):\n",
    "    return list(filter(lambda s: not s.isupper(), strings))\n",
    "strings = [\"HELLO\", \"world\", \"PYTHON\", \"programming\"]\n",
    "result = upperCase(strings)\n",
    "print(result)"
   ]
  },
  {
   "cell_type": "markdown",
   "id": "d0dddd17",
   "metadata": {},
   "source": [
    "### Q14\n",
    "Define a function that takes a list of numbers and print out the numbers which are prime in the list."
   ]
  },
  {
   "cell_type": "code",
   "execution_count": 160,
   "id": "06f4cfe7",
   "metadata": {},
   "outputs": [],
   "source": [
    "numbers = [2, 3, 4, 5, 6, 7, 8, 9, 10, 11]\n",
    "def prime(numbers):\n",
    "    for num in numbers:\n",
    "        if num > 1:\n",
    "            for i in range(2, num):\n",
    "                if (num % i) == 0:\n",
    "                    break\n",
    "            else:\n",
    "                print(num)"
   ]
  },
  {
   "cell_type": "code",
   "execution_count": 161,
   "id": "b76368b3",
   "metadata": {},
   "outputs": [
    {
     "name": "stdout",
     "output_type": "stream",
     "text": [
      "2\n",
      "3\n",
      "5\n",
      "7\n",
      "11\n"
     ]
    }
   ],
   "source": [
    "prime(numbers)"
   ]
  },
  {
   "cell_type": "markdown",
   "id": "240741dc",
   "metadata": {},
   "source": [
    "### Q15\n",
    "Define a function that take a list of strings and return a zip of each string and length of a string."
   ]
  },
  {
   "cell_type": "code",
   "execution_count": 157,
   "id": "0bc53f95",
   "metadata": {},
   "outputs": [],
   "source": [
    "def string_length(lst):\n",
    "    return list(zip(lst, map(len, lst)))"
   ]
  },
  {
   "cell_type": "code",
   "execution_count": 159,
   "id": "4a734850",
   "metadata": {},
   "outputs": [
    {
     "name": "stdout",
     "output_type": "stream",
     "text": [
      "[('Ama', 3), ('Kofi', 4), ('Kwabena', 7), ('Kojo', 4)]\n"
     ]
    }
   ],
   "source": [
    "input_list = ['Ama', 'Kofi', 'Kwabena', 'Kojo']\n",
    "string_lengths_list = string_length(input_list)\n",
    "print(string_lengths_list)"
   ]
  },
  {
   "cell_type": "markdown",
   "id": "44a1339f",
   "metadata": {},
   "source": [
    "### Q16\n",
    "Define a function that takes in a number and return the first 12 multiples of the the number.\n",
    "\n",
    "Expected Output\n",
    "\n",
    "2 X 1 = 2\n",
    "\n",
    "to\n",
    "\n",
    "2 X 12 = 24"
   ]
  },
  {
   "cell_type": "code",
   "execution_count": 153,
   "id": "c59b12ff",
   "metadata": {},
   "outputs": [],
   "source": [
    "def multiples_6(n):\n",
    "    for i in range(1, 13):\n",
    "        print(f\"{n} x {i} = {n*i}\")"
   ]
  },
  {
   "cell_type": "code",
   "execution_count": 155,
   "id": "423908df",
   "metadata": {},
   "outputs": [
    {
     "name": "stdout",
     "output_type": "stream",
     "text": [
      "2 x 1 = 2\n",
      "2 x 2 = 4\n",
      "2 x 3 = 6\n",
      "2 x 4 = 8\n",
      "2 x 5 = 10\n",
      "2 x 6 = 12\n",
      "2 x 7 = 14\n",
      "2 x 8 = 16\n",
      "2 x 9 = 18\n",
      "2 x 10 = 20\n",
      "2 x 11 = 22\n",
      "2 x 12 = 24\n"
     ]
    }
   ],
   "source": [
    "n = 2\n",
    "multiples_6(n)"
   ]
  },
  {
   "cell_type": "markdown",
   "id": "cd63dd99",
   "metadata": {},
   "source": [
    "### Q17\n",
    "Write a Python function to find the maximum of three numbers.\n",
    "\n",
    "**Do not use the max function**"
   ]
  },
  {
   "cell_type": "code",
   "execution_count": 150,
   "id": "1b9ddd4b",
   "metadata": {},
   "outputs": [],
   "source": [
    "def formula(a, b, c):\n",
    "    if a >= b and a >= c:\n",
    "        return a\n",
    "    elif b >= a and b >= c:\n",
    "        return b\n",
    "    else:\n",
    "        return c"
   ]
  },
  {
   "cell_type": "code",
   "execution_count": 151,
   "id": "dec2a9be",
   "metadata": {},
   "outputs": [
    {
     "name": "stdout",
     "output_type": "stream",
     "text": [
      "15\n"
     ]
    }
   ],
   "source": [
    "a = 10\n",
    "b = 5\n",
    "c = 15\n",
    "maximum = formula(a, b, c)\n",
    "print(maximum)"
   ]
  },
  {
   "cell_type": "markdown",
   "id": "67520c0b",
   "metadata": {},
   "source": [
    "### Q18\n",
    "Write a Python function to multiply all the numbers in a list."
   ]
  },
  {
   "cell_type": "code",
   "execution_count": 98,
   "id": "4bb6f1c5",
   "metadata": {},
   "outputs": [
    {
     "name": "stdout",
     "output_type": "stream",
     "text": [
      "120\n"
     ]
    }
   ],
   "source": [
    "numbers = list(range(1,6))\n",
    "def multiply(numbers):\n",
    "    total = 1\n",
    "    for x in numbers:\n",
    "        total *= x\n",
    "    return total\n",
    "print(multiply(numbers))"
   ]
  },
  {
   "cell_type": "markdown",
   "id": "05891582",
   "metadata": {},
   "source": [
    "### Q19\n",
    "Write a Python program to reverse a string"
   ]
  },
  {
   "cell_type": "code",
   "execution_count": 97,
   "id": "8697538b",
   "metadata": {},
   "outputs": [
    {
     "name": "stdout",
     "output_type": "stream",
     "text": [
      "Input: oscar\n",
      "racso\n"
     ]
    }
   ],
   "source": [
    "strl = input(\"Input: \")\n",
    "print(strl[::-1])"
   ]
  },
  {
   "cell_type": "markdown",
   "id": "b9025ac8",
   "metadata": {},
   "source": [
    "### Q20\n",
    "Write a python function to return the length of a string."
   ]
  },
  {
   "cell_type": "code",
   "execution_count": 91,
   "id": "a0c89550",
   "metadata": {},
   "outputs": [
    {
     "name": "stdout",
     "output_type": "stream",
     "text": [
      "Input: oscar\n",
      "5\n"
     ]
    }
   ],
   "source": [
    "strl = input(\"Input: \")\n",
    "len_strl = lambda string: string\n",
    "print(len(strl))"
   ]
  },
  {
   "cell_type": "markdown",
   "id": "8d1ee176",
   "metadata": {},
   "source": [
    "Have a lovely coding weekend"
   ]
  }
 ],
 "metadata": {
  "kernelspec": {
   "display_name": "Python 3 (ipykernel)",
   "language": "python",
   "name": "python3"
  },
  "language_info": {
   "codemirror_mode": {
    "name": "ipython",
    "version": 3
   },
   "file_extension": ".py",
   "mimetype": "text/x-python",
   "name": "python",
   "nbconvert_exporter": "python",
   "pygments_lexer": "ipython3",
   "version": "3.9.13"
  }
 },
 "nbformat": 4,
 "nbformat_minor": 5
}
