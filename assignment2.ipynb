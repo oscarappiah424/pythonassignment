{
 "cells": [
  {
   "cell_type": "markdown",
   "id": "3c2e90df",
   "metadata": {},
   "source": [
    "### Q1\n",
    "\n",
    "Name the four built-in data structures in python. Give one examples for each"
   ]
  },
  {
   "cell_type": "markdown",
   "id": "e061bdbe",
   "metadata": {},
   "source": [
    "### Answer\n",
    "- List eg. [2,'boy',6]\n",
    "- Set eg. {2,6,3}\n",
    "- Tuple eg. (2,6,4)\n",
    "- Dictionary eg. {'ama':2, 'kofi':4}"
   ]
  },
  {
   "cell_type": "markdown",
   "id": "b6e1dd1b",
   "metadata": {},
   "source": [
    "### Q2\n",
    "\n",
    "State two differences between a list and a tuple in Python."
   ]
  },
  {
   "cell_type": "markdown",
   "id": "764be37c",
   "metadata": {},
   "source": [
    "### Answer\n",
    "- Tuple are immutable but list is not\n",
    "- tuple is in a () but list is in a [ ]"
   ]
  },
  {
   "cell_type": "markdown",
   "id": "815b4e67",
   "metadata": {},
   "source": [
    "### Q3\n",
    "Make a list containing names of five animals with a variable name `animal_list`\n",
    "\n",
    "Write a code for the following:\n",
    "- Print the first two animals\n",
    "- Print the last two animals\n",
    "- Add three extra animals to the variable `animal_list`\n",
    "- Remove the first two animals from the variable `animal_list`\n",
    "- How many animals are in the `animal_list`?\n",
    "- Create a variable animal_set which stores the set of animal_list \n",
    "- How many elements are in the animal_set?\n"
   ]
  },
  {
   "cell_type": "code",
   "execution_count": 1,
   "id": "9d4c8c02",
   "metadata": {},
   "outputs": [],
   "source": [
    "animal_list = ['cat', 'monkey', 'rat', 'dog', 'donkey']"
   ]
  },
  {
   "cell_type": "code",
   "execution_count": 2,
   "id": "fa7dad2e",
   "metadata": {
    "scrolled": true
   },
   "outputs": [
    {
     "name": "stdout",
     "output_type": "stream",
     "text": [
      "['cat', 'monkey']\n"
     ]
    }
   ],
   "source": [
    "print(animal_list[0:2])"
   ]
  },
  {
   "cell_type": "code",
   "execution_count": 3,
   "id": "023f5549",
   "metadata": {
    "scrolled": false
   },
   "outputs": [
    {
     "name": "stdout",
     "output_type": "stream",
     "text": [
      "['dog', 'donkey']\n"
     ]
    }
   ],
   "source": [
    "print(animal_list[3:])"
   ]
  },
  {
   "cell_type": "code",
   "execution_count": 4,
   "id": "2e72cf67",
   "metadata": {},
   "outputs": [
    {
     "data": {
      "text/plain": [
       "['cat', 'monkey', 'rat', 'dog', 'donkey', 'bat', 'cow', 'goat']"
      ]
     },
     "execution_count": 4,
     "metadata": {},
     "output_type": "execute_result"
    }
   ],
   "source": [
    "animal_list.extend(['bat','cow','goat'])\n",
    "animal_list"
   ]
  },
  {
   "cell_type": "code",
   "execution_count": 5,
   "id": "c76ca8ed",
   "metadata": {},
   "outputs": [
    {
     "data": {
      "text/plain": [
       "['cat', 'rat', 'dog', 'donkey', 'bat', 'cow', 'goat']"
      ]
     },
     "execution_count": 5,
     "metadata": {},
     "output_type": "execute_result"
    }
   ],
   "source": [
    "animal_list.remove('monkey')\n",
    "animal_list"
   ]
  },
  {
   "cell_type": "code",
   "execution_count": 6,
   "id": "711bc102",
   "metadata": {},
   "outputs": [
    {
     "data": {
      "text/plain": [
       "['rat', 'dog', 'donkey', 'bat', 'cow', 'goat']"
      ]
     },
     "execution_count": 6,
     "metadata": {},
     "output_type": "execute_result"
    }
   ],
   "source": [
    "animal_list.remove('cat')\n",
    "animal_list"
   ]
  },
  {
   "cell_type": "code",
   "execution_count": 7,
   "id": "984ccf7d",
   "metadata": {},
   "outputs": [
    {
     "data": {
      "text/plain": [
       "6"
      ]
     },
     "execution_count": 7,
     "metadata": {},
     "output_type": "execute_result"
    }
   ],
   "source": [
    "len(animal_list)"
   ]
  },
  {
   "cell_type": "code",
   "execution_count": 10,
   "id": "5b070589",
   "metadata": {},
   "outputs": [
    {
     "data": {
      "text/plain": [
       "{'bat', 'cow', 'dog', 'donkey', 'goat', 'rat'}"
      ]
     },
     "execution_count": 10,
     "metadata": {},
     "output_type": "execute_result"
    }
   ],
   "source": [
    "animal_set = set(animal_list)\n",
    "animal_set"
   ]
  },
  {
   "cell_type": "code",
   "execution_count": 9,
   "id": "235f32b2",
   "metadata": {},
   "outputs": [
    {
     "data": {
      "text/plain": [
       "6"
      ]
     },
     "execution_count": 9,
     "metadata": {},
     "output_type": "execute_result"
    }
   ],
   "source": [
    "len(animal_set)"
   ]
  },
  {
   "cell_type": "markdown",
   "id": "113c9970",
   "metadata": {},
   "source": [
    "### Q4\n",
    "\n",
    "Given a list:\n",
    "\n",
    "suitcase = [\"sunglasses\", \"hat\", \"passport\", \"laptop\", \"suit\", \"shoes\"]\n",
    "\n",
    "a. Create a list called first containing only the two first items from suitcase.\n",
    "\n",
    "b. Create a list called middle containing only the two middle items from suitcase.\n",
    "\n",
    "c. Create a list called last made up only of the last two items from suitcase."
   ]
  },
  {
   "cell_type": "code",
   "execution_count": 17,
   "id": "8c72ea0b",
   "metadata": {},
   "outputs": [],
   "source": [
    "suitcase = [\"sunglasses\", \"hat\", \"passport\", \"laptop\", \"suit\", \"shoes\"]\n",
    "first = suitcase[:2]\n",
    "middle = suitcase[2:4]\n",
    "last = suitcase[4:]"
   ]
  },
  {
   "cell_type": "markdown",
   "id": "711ba044",
   "metadata": {},
   "source": [
    "### Q5\n",
    "Write a python code to insert 35 into the list below. Make sure it is inserted in the right position to maintain the order of the data.\n",
    "\n",
    "`values = [20,25,30,40,45,50,55,60,65,70]`"
   ]
  },
  {
   "cell_type": "code",
   "execution_count": 19,
   "id": "8ec5e662",
   "metadata": {},
   "outputs": [
    {
     "data": {
      "text/plain": [
       "[20, 25, 30, 35, 40, 45, 50, 55, 60, 65, 70]"
      ]
     },
     "execution_count": 19,
     "metadata": {},
     "output_type": "execute_result"
    }
   ],
   "source": [
    "values = [20,25,30,40,45,50,55,60,65,70]\n",
    "values.insert(3,35)\n",
    "values"
   ]
  },
  {
   "cell_type": "markdown",
   "id": "f535cf64",
   "metadata": {},
   "source": [
    "### Q6\n",
    "\n",
    "Given that Python lists and Python tuples are quite similar – when might you prefer to use a tuple over a list?"
   ]
  },
  {
   "cell_type": "markdown",
   "id": "f6893167",
   "metadata": {},
   "source": [
    "###### Answer\n",
    "- Tuple is preferred over list when you want unchanged data. "
   ]
  },
  {
   "cell_type": "markdown",
   "id": "346927f6",
   "metadata": {},
   "source": [
    "### Q7\n",
    "Create a dictionary with 5 Ghana regions and their capitals and store it in the variable `region_capital`\n",
    "\n",
    "- Print out the keys of region_capital\n",
    "- Print out the values of region_capital\n"
   ]
  },
  {
   "cell_type": "code",
   "execution_count": 22,
   "id": "d45ba383",
   "metadata": {},
   "outputs": [
    {
     "data": {
      "text/plain": [
       "dict_keys(['Greater', 'Ashanti', 'Eastern', 'Central', 'Western'])"
      ]
     },
     "execution_count": 22,
     "metadata": {},
     "output_type": "execute_result"
    }
   ],
   "source": [
    "region_capital = {'Greater':'Accra',\n",
    "                 'Ashanti':'Kumasi',\n",
    "                 'Eastern':'Koforidua',\n",
    "                 'Central':'Capecoast',\n",
    "                 'Western':'Takoradi'}\n",
    "region_capital.keys()\n",
    "region_capital.keys()"
   ]
  },
  {
   "cell_type": "markdown",
   "id": "70526b3b",
   "metadata": {},
   "source": [
    "### Q8\n",
    "\n",
    "`values = [3,4,5,6,3,4,3,5,2,4,2,5,6,1,6]`\n",
    "\n",
    "Using the codes above answer the following questions:\n",
    "- What is the total number of elements in values?\n",
    "- What is the highest occuring number in the values variable?\n",
    "- Convert values into a set and store it into a variable named `values_set`\n",
    "- How many elements are in the variable values_set?\n"
   ]
  },
  {
   "cell_type": "code",
   "execution_count": 24,
   "id": "ca8faa5a",
   "metadata": {},
   "outputs": [
    {
     "data": {
      "text/plain": [
       "15"
      ]
     },
     "execution_count": 24,
     "metadata": {},
     "output_type": "execute_result"
    }
   ],
   "source": [
    "values = [3,4,5,6,3,4,3,5,2,4,2,5,6,1,6]\n",
    "len(values)"
   ]
  },
  {
   "cell_type": "code",
   "execution_count": 44,
   "id": "04f9506c",
   "metadata": {
    "scrolled": true
   },
   "outputs": [
    {
     "name": "stdout",
     "output_type": "stream",
     "text": [
      "Total 62\n",
      "Highest occuring number 3\n"
     ]
    }
   ],
   "source": [
    "values = [3,4,5,6,3,4,3,5,2,4,2,5,6,1,6,3]\n",
    "print('Total', sum(values))\n",
    "\n",
    "freq_dict = {}\n",
    "mode = None\n",
    "\n",
    "for num in values:\n",
    "    if num in freq_dict:\n",
    "        freq_dict[num] += 1\n",
    "    else:\n",
    "        freq_dict[num] = 1\n",
    "        \n",
    "max_freq = max(freq_dict.values())\n",
    "\n",
    "for key, value in freq_dict.items():\n",
    "    if value == max_freq:\n",
    "        mode = key\n",
    "print('Highest occuring number', mode)"
   ]
  },
  {
   "cell_type": "code",
   "execution_count": 27,
   "id": "10b0c3ef",
   "metadata": {},
   "outputs": [],
   "source": [
    "values_set = set(values)"
   ]
  },
  {
   "cell_type": "code",
   "execution_count": 28,
   "id": "4af2e816",
   "metadata": {},
   "outputs": [
    {
     "data": {
      "text/plain": [
       "6"
      ]
     },
     "execution_count": 28,
     "metadata": {},
     "output_type": "execute_result"
    }
   ],
   "source": [
    "len(values_set)"
   ]
  },
  {
   "cell_type": "markdown",
   "id": "801d5876",
   "metadata": {},
   "source": [
    "### Q9\n",
    "Write a Python script to print a dictionary where the keys are numbers between 1 and 15 (both included) and the values are the square of the keys."
   ]
  },
  {
   "cell_type": "code",
   "execution_count": 30,
   "id": "6276e6d3",
   "metadata": {},
   "outputs": [
    {
     "data": {
      "text/plain": [
       "{1: 1,\n",
       " 2: 4,\n",
       " 3: 9,\n",
       " 4: 16,\n",
       " 5: 25,\n",
       " 6: 36,\n",
       " 7: 49,\n",
       " 8: 64,\n",
       " 9: 81,\n",
       " 10: 100,\n",
       " 11: 121,\n",
       " 12: 144,\n",
       " 13: 169,\n",
       " 14: 196,\n",
       " 15: 225}"
      ]
     },
     "execution_count": 30,
     "metadata": {},
     "output_type": "execute_result"
    }
   ],
   "source": [
    "d = {}\n",
    "for num in range(1,16):\n",
    "    d[num] = num**2\n",
    "    \n",
    "d"
   ]
  },
  {
   "cell_type": "markdown",
   "id": "18954e57",
   "metadata": {},
   "source": [
    "### Q10\n",
    "Write a Python program to create a dictionary of keys x, y, and z where each key has as value a list from 11-20, 21-30, and 31-40 respectively. Access the fifth value of each key from the dictionary."
   ]
  },
  {
   "cell_type": "code",
   "execution_count": 42,
   "id": "fec19820",
   "metadata": {},
   "outputs": [
    {
     "name": "stdout",
     "output_type": "stream",
     "text": [
      "x: 15\n",
      "y: 25\n",
      "z: 35\n"
     ]
    }
   ],
   "source": [
    "keys = ['x','y','z']\n",
    "\n",
    "d = {}\n",
    "for key in keys:\n",
    "    if key == 'x':\n",
    "        d[key] = list(range(11,21))\n",
    "    elif key == 'y':\n",
    "        d[key] = list(range(21,31))\n",
    "    else:\n",
    "        d[key] = list(range(31,40))\n",
    "        \n",
    "for key in keys:\n",
    "    print(f\"{key}: {d[key][4]}\")"
   ]
  },
  {
   "cell_type": "code",
   "execution_count": null,
   "id": "883ee976",
   "metadata": {},
   "outputs": [],
   "source": []
  }
 ],
 "metadata": {
  "kernelspec": {
   "display_name": "Python 3 (ipykernel)",
   "language": "python",
   "name": "python3"
  },
  "language_info": {
   "codemirror_mode": {
    "name": "ipython",
    "version": 3
   },
   "file_extension": ".py",
   "mimetype": "text/x-python",
   "name": "python",
   "nbconvert_exporter": "python",
   "pygments_lexer": "ipython3",
   "version": "3.9.13"
  }
 },
 "nbformat": 4,
 "nbformat_minor": 5
}
