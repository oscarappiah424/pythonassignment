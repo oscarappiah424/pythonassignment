{
 "cells": [
  {
   "cell_type": "markdown",
   "id": "c981861e",
   "metadata": {},
   "source": [
    "# Q1\n",
    "Write a code to display a list of the first 12 multiples of 8 using a for loop\n"
   ]
  },
  {
   "cell_type": "code",
   "execution_count": null,
   "id": "a9f3937a",
   "metadata": {},
   "outputs": [],
   "source": [
    "m = []\n",
    "for x in range(8,97,8):\n",
    "    m.append(x)\n",
    "print(m)"
   ]
  },
  {
   "cell_type": "code",
   "execution_count": null,
   "id": "d1132e68",
   "metadata": {},
   "outputs": [],
   "source": [
    "multiples = list(range(8,97,8))\n",
    "print(multiples)"
   ]
  },
  {
   "cell_type": "markdown",
   "id": "d9f7d0f9",
   "metadata": {},
   "source": [
    "# Q2\n",
    "Write the code to print sum of all even numbers from 1 to 201"
   ]
  },
  {
   "cell_type": "code",
   "execution_count": null,
   "id": "87cb2d42",
   "metadata": {},
   "outputs": [],
   "source": [
    "y = []\n",
    "for s in range(1,201):\n",
    "    if s%2==0:\n",
    "        y.append(s)\n",
    "print(sum(y))"
   ]
  },
  {
   "cell_type": "markdown",
   "id": "4f0f12d7",
   "metadata": {},
   "source": [
    "# Q3\n",
    "`my_list = [3, 5, 7, 12, 41]`\n",
    "\n",
    "Write the code to display the list of the squares of each number in my list\n",
    "\n",
    "- Without using list comprehension\n",
    "- Using list comprehension\n"
   ]
  },
  {
   "cell_type": "code",
   "execution_count": null,
   "id": "b470edbe",
   "metadata": {},
   "outputs": [],
   "source": [
    "## Without list compression\n",
    "sq = []\n",
    "my_list = [3, 5, 7, 12, 41]\n",
    "for s in my_list:\n",
    "    sq.append(s**2)\n",
    "print(sq)"
   ]
  },
  {
   "cell_type": "code",
   "execution_count": null,
   "id": "b7d6fd0b",
   "metadata": {},
   "outputs": [],
   "source": [
    "### With list compression\n",
    "my_list = [3, 5, 7, 12, 41]\n",
    "sq = [s**2 for s in my_list]\n",
    "print(sq)"
   ]
  },
  {
   "cell_type": "markdown",
   "id": "28bed149",
   "metadata": {},
   "source": [
    "# Q4\n",
    "`my_list1 = [3, 53,47, 22, 53, 78, 12, 41]`\n",
    "\n",
    "Calculate the average of my_list1\n",
    "\n",
    "- Without using sum and len fucnctions\n",
    "- Using sum and len functions\n"
   ]
  },
  {
   "cell_type": "code",
   "execution_count": null,
   "id": "3f3d81fd",
   "metadata": {},
   "outputs": [],
   "source": [
    "my_list1 = [3, 53,47, 22, 53, 78, 12, 41]\n",
    "\n",
    "average = (3+53+47+22+53+78+12+41)/8\n",
    "print(average)"
   ]
  },
  {
   "cell_type": "code",
   "execution_count": null,
   "id": "f37ad84b",
   "metadata": {},
   "outputs": [],
   "source": [
    "my_list1 = [3, 53, 47, 22, 53, 78, 12, 41]\n",
    "total = 0\n",
    "for i in my_list1:\n",
    "    total+=i\n",
    "print(total/len(my_list1))"
   ]
  },
  {
   "cell_type": "markdown",
   "id": "38c1ddff",
   "metadata": {},
   "source": [
    "# Q4\n",
    "\n",
    "Write a Python program to guess a number between 1 and 9.\n",
    "User is prompted to enter a guess. If the user guesses wrong then the prompt appears again until the guess is correct, on successful guess, user will get a \"Well guessed!\" message, and the program will exit."
   ]
  },
  {
   "cell_type": "code",
   "execution_count": null,
   "id": "96ac9f3d",
   "metadata": {},
   "outputs": [],
   "source": [
    "import random\n",
    "target_num, guess_num = random.randint(1, 9), 0\n",
    "while target_num != guess_num:\n",
    "    guess_num = int(input('Guess a number between 1 and 9 until you get it right : '))\n",
    "print('Well guessed!')"
   ]
  },
  {
   "cell_type": "markdown",
   "id": "f5c02baa",
   "metadata": {},
   "source": [
    "# Q5\n",
    "Write a Python program to construct the following pattern.\n",
    "\n",
    "`*` \n",
    "\n",
    "`* *` \n",
    "\n",
    "`* * *` \n",
    "\n",
    "`* * * *` \n",
    "\n",
    "`* * * * *`"
   ]
  },
  {
   "cell_type": "code",
   "execution_count": null,
   "id": "acd34d98",
   "metadata": {},
   "outputs": [],
   "source": [
    "for i in range(6):\n",
    "    for j in range(i):\n",
    "        print('* ', end=\"\")\n",
    "    print('')"
   ]
  },
  {
   "cell_type": "code",
   "execution_count": null,
   "id": "6d3acf68",
   "metadata": {},
   "outputs": [],
   "source": [
    "for x in range(1, 6):\n",
    "    print(\"* \" * x)"
   ]
  },
  {
   "cell_type": "markdown",
   "id": "e85d94df",
   "metadata": {},
   "source": [
    "# Q6\n",
    "\n",
    "Write a Python program that accepts a word from the user and reverses it."
   ]
  },
  {
   "cell_type": "code",
   "execution_count": null,
   "id": "2bafa1f5",
   "metadata": {},
   "outputs": [],
   "source": [
    "user = input(\"word: \")\n",
    "print(user[::-1])"
   ]
  },
  {
   "cell_type": "markdown",
   "id": "5fe06511",
   "metadata": {},
   "source": [
    "# Q7\n",
    "Write a Python program that accepts a word from the user and reverses it."
   ]
  },
  {
   "cell_type": "code",
   "execution_count": null,
   "id": "d91f346b",
   "metadata": {},
   "outputs": [],
   "source": [
    "user = input(\"word: \")\n",
    "print(user[::-1])"
   ]
  },
  {
   "cell_type": "markdown",
   "id": "5a99d4b3",
   "metadata": {},
   "source": [
    "# Q8\n",
    "\n",
    "`lst = [3,4,5,4,7,8,5,8,3,6,8,9,11]`\n",
    "\n",
    "Write a Python program to count the number of even and odd numbers in the above list of numbers.\n",
    "\n",
    "**Expected output should be in this format**\n",
    "\n",
    "{\"Even\" : num_of_even, \"Odd\": num_of_odd}"
   ]
  },
  {
   "cell_type": "code",
   "execution_count": null,
   "id": "c632cb87",
   "metadata": {},
   "outputs": [],
   "source": [
    "lst = [3,4,5,4,7,8,5,8,3,6,8,9,11]\n",
    "odd = 0\n",
    "even = 0\n",
    "for i in lst:\n",
    "    if i%2 == 0:\n",
    "        even += 1 \n",
    "    else:\n",
    "        odd += 1\n",
    "d = {}\n",
    "d[\"Even\"] = even\n",
    "d[\"Odd\"] = odd\n",
    "d"
   ]
  },
  {
   "cell_type": "markdown",
   "id": "c92b54f9",
   "metadata": {},
   "source": [
    "# Q9\n",
    " Write a Python program that iterates the integers from 1 to 50. For multiples of three print \"Fizz\" instead of the number and for multiples of five print \"Buzz\". For numbers that are multiples of three and five, print \"FizzBuzz\".\n",
    "Sample Output :\n",
    "1\n",
    "\n",
    "2\n",
    "\n",
    "fizz\n",
    "\n",
    "4\n",
    "\n",
    "buzz"
   ]
  },
  {
   "cell_type": "code",
   "execution_count": null,
   "id": "298b7697",
   "metadata": {},
   "outputs": [],
   "source": [
    "for i in range(2,50):\n",
    "    if i%3==0:\n",
    "        print(\"Fizz\")\n",
    "    elif i%5==0:\n",
    "        print(\"Buzz\")\n",
    "    elif i%3==0 and i%5==0:\n",
    "        print(\"FizzBuzz\")\n",
    "    else:\n",
    "        print(i)"
   ]
  },
  {
   "cell_type": "markdown",
   "id": "8d3505cf",
   "metadata": {},
   "source": [
    "# Q10\n",
    " Write a Python program to find the median of three values inputs from the user"
   ]
  },
  {
   "cell_type": "code",
   "execution_count": null,
   "id": "04634b78",
   "metadata": {},
   "outputs": [],
   "source": [
    "a = float(input(\"Input first number: \"))\n",
    "b = float(input(\"Input second number: \"))\n",
    "c = float(input(\"Input third number: \"))\n",
    "if a > b:\n",
    "    if a < c:\n",
    "        median = a\n",
    "    elif b > c:\n",
    "        median = b\n",
    "    else:\n",
    "        median = c\n",
    "else:\n",
    "    if a > c:\n",
    "        median = a\n",
    "    elif b < c:\n",
    "        median = b\n",
    "    else:\n",
    "        median = c\n",
    "\n",
    "print(\"The median is\", median)"
   ]
  },
  {
   "cell_type": "code",
   "execution_count": null,
   "id": "5f4a034e",
   "metadata": {},
   "outputs": [],
   "source": [
    "x = float(input(\"Input first number: \"))\n",
    "y = float(input(\"Input second number: \"))\n",
    "z = float(input(\"Input third number: \"))\n",
    "\n",
    "if x>y:\n",
    "    if x<z:\n",
    "        median = x\n",
    "    elif y>z:\n",
    "        median = y\n",
    "    else:\n",
    "        median = z\n",
    "else:\n",
    "    if x>z:\n",
    "        median = x\n",
    "    elif y<z:\n",
    "        median = y\n",
    "    else:\n",
    "        median = z\n",
    "        \n",
    "print(f\"Median is {median}\")"
   ]
  },
  {
   "cell_type": "markdown",
   "id": "9ef4f8a2",
   "metadata": {},
   "source": [
    "# Q11\n",
    "Write a Python program to calculate the sum and average of n integer numbers (input from the user). Input 0 to finish."
   ]
  },
  {
   "cell_type": "code",
   "execution_count": null,
   "id": "bd143156",
   "metadata": {},
   "outputs": [],
   "source": [
    "count = 0\n",
    "sum = 0.0\n",
    "number = 1\n",
    "\n",
    "while number != 0:\n",
    "    number = int(input(\"\"))\n",
    "    sum = sum + number\n",
    "    count += 1\n",
    "    \n",
    "if count==0:\n",
    "    print(\"Input some numbers\")\n",
    "else:\n",
    "    print(\"Average and Sum of the above numbers are: \", sum/(count-1), \"and\", sum)"
   ]
  },
  {
   "cell_type": "markdown",
   "id": "45f5c335",
   "metadata": {},
   "source": [
    "# Q12\n",
    " Write a Python program to create the multiplication table (from 1 to 12) of a number input from a user.\n",
    " \n",
    " Expected Output:\n",
    "\n",
    "Input a number: 6                                                       \n",
    "6 x 1 = 6                                                               \n",
    "6 x 2 = 12                                                              \n",
    "6 x 3 = 18                                                              \n",
    "6 x 4 = 24                                                              \n",
    "6 x 5 = 30                                                              \n",
    "6 x 6 = 36                                                              \n",
    "6 x 7 = 42                                                              \n",
    "6 x 8 = 48                                                              \n",
    "6 x 9 = 54                                                              \n",
    "6 x 10 = 60 \n",
    "\n",
    "6 x 11 = 66\n",
    "\n",
    "6 x 12 = 72"
   ]
  },
  {
   "cell_type": "code",
   "execution_count": 1,
   "id": "b28f4e88",
   "metadata": {},
   "outputs": [
    {
     "name": "stdout",
     "output_type": "stream",
     "text": [
      "Enter a number: 6\n",
      "6 x 1 = 6\n",
      "6 x 2 = 12\n",
      "6 x 3 = 18\n",
      "6 x 4 = 24\n",
      "6 x 5 = 30\n",
      "6 x 6 = 36\n",
      "6 x 7 = 42\n",
      "6 x 8 = 48\n",
      "6 x 9 = 54\n",
      "6 x 10 = 60\n",
      "6 x 11 = 66\n",
      "6 x 12 = 72\n"
     ]
    }
   ],
   "source": [
    "multiples = int(input(\"Enter a number: \"))\n",
    "for x in range(1,13):\n",
    "    print(multiples,\"x\",x,\"=\",x*multiples)"
   ]
  },
  {
   "cell_type": "markdown",
   "id": "8cc97048",
   "metadata": {},
   "source": [
    "# Q13\n",
    "Write a Python program to construct the following pattern\n",
    "\n",
    "1\n",
    "\n",
    "22\n",
    "\n",
    "333\n",
    "\n",
    "4444\n",
    "\n",
    "55555\n",
    "\n",
    "666666\n",
    "\n",
    "7777777\n",
    "\n",
    "88888888\n",
    "\n",
    "999999999"
   ]
  },
  {
   "cell_type": "code",
   "execution_count": null,
   "id": "23649841",
   "metadata": {},
   "outputs": [],
   "source": [
    "for x in range(10):\n",
    "    print(str(x) * x)\n",
    "    print()"
   ]
  },
  {
   "cell_type": "markdown",
   "id": "adef967a",
   "metadata": {},
   "source": [
    "# Q14\n",
    "Print sum of all odd numbers from 10 to 50"
   ]
  },
  {
   "cell_type": "code",
   "execution_count": 5,
   "id": "93a0384a",
   "metadata": {},
   "outputs": [
    {
     "data": {
      "text/plain": [
       "600"
      ]
     },
     "execution_count": 5,
     "metadata": {},
     "output_type": "execute_result"
    }
   ],
   "source": [
    "odd = []\n",
    "\n",
    "for x in range(10,50):\n",
    "    if x%2 == 1:\n",
    "        odd.append(x)\n",
    "        \n",
    "sum(odd)"
   ]
  },
  {
   "cell_type": "markdown",
   "id": "1642ec1a",
   "metadata": {},
   "source": [
    "# Q15\n",
    "\n",
    "`my_list = [25, 100, 121, 400, 81]`\n",
    "\n",
    "Write the code to display the list of the square root of each number in my list\n",
    "\n",
    "- Without using list comprehension\n",
    "- Using list comprehension"
   ]
  },
  {
   "cell_type": "code",
   "execution_count": null,
   "id": "be3f0615",
   "metadata": {},
   "outputs": [],
   "source": [
    "# Without using list comprehension \n",
    "\n",
    "my_list = [25, 100, 121, 400, 81]\n",
    "lst_2 = []\n",
    "for i in my_list:\n",
    "    lst_2.append(i**0.5)\n",
    "lst_2"
   ]
  },
  {
   "cell_type": "code",
   "execution_count": null,
   "id": "7d9b6913",
   "metadata": {},
   "outputs": [],
   "source": [
    "# Using list comprehension\n",
    "\n",
    "lst_2 = [x**0.5 for x in my_list]\n",
    "lst_2"
   ]
  },
  {
   "cell_type": "code",
   "execution_count": null,
   "id": "94e13616",
   "metadata": {},
   "outputs": [],
   "source": []
  }
 ],
 "metadata": {
  "kernelspec": {
   "display_name": "Python 3 (ipykernel)",
   "language": "python",
   "name": "python3"
  },
  "language_info": {
   "codemirror_mode": {
    "name": "ipython",
    "version": 3
   },
   "file_extension": ".py",
   "mimetype": "text/x-python",
   "name": "python",
   "nbconvert_exporter": "python",
   "pygments_lexer": "ipython3",
   "version": "3.9.13"
  }
 },
 "nbformat": 4,
 "nbformat_minor": 5
}
